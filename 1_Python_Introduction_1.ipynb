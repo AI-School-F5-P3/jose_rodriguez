{
  "cells": [
    {
      "cell_type": "markdown",
      "source": [
        "![](https://drive.google.com/uc?export=view&id=1oMxyESSVJV2cpC2-2R_BVqDnpPZgzQ_8)"
      ],
      "metadata": {
        "id": "ok53EivTxC2H"
      },
      "id": "ok53EivTxC2H"
    },
    {
      "cell_type": "markdown",
      "source": [
        "# Introducción a Python"
      ],
      "metadata": {
        "id": "tSQJlb55qO-r"
      },
      "id": "tSQJlb55qO-r"
    },
    {
      "cell_type": "markdown",
      "id": "6cae9230",
      "metadata": {
        "id": "6cae9230"
      },
      "source": [
        "### Comentarios"
      ]
    },
    {
      "cell_type": "code",
      "execution_count": 2,
      "id": "0658b566",
      "metadata": {
        "id": "0658b566"
      },
      "outputs": [],
      "source": [
        "# Comentario\n",
        "# asignamos el valor facil a la variable python\n",
        "\n",
        "python = \"fácil\"  # Comentario en línea de código\n",
        "\n",
        "# Esto es un comentario\n",
        "\n",
        "\n",
        "'''\n",
        "Docstring, para comentar funciones o clases\n",
        "\n",
        "'''\n",
        "\n",
        "def funcion_ejemplo():\n",
        "    print(\"Hola\")"
      ]
    },
    {
      "cell_type": "code",
      "source": [
        "funcion_ejemplo()"
      ],
      "metadata": {
        "colab": {
          "base_uri": "https://localhost:8080/"
        },
        "id": "yguN_oCc7WGi",
        "outputId": "5d95a780-d841-4a8b-cc68-cc13a11d33ca"
      },
      "id": "yguN_oCc7WGi",
      "execution_count": 4,
      "outputs": [
        {
          "output_type": "stream",
          "name": "stdout",
          "text": [
            "Hola\n"
          ]
        }
      ]
    },
    {
      "cell_type": "markdown",
      "id": "c13a1c67",
      "metadata": {
        "id": "c13a1c67"
      },
      "source": [
        "### Tipos de datos"
      ]
    },
    {
      "cell_type": "markdown",
      "id": "4b6a9c8d",
      "metadata": {
        "id": "4b6a9c8d"
      },
      "source": [
        "#### Número entero\n",
        "#### -1, 0, 1, 2, 3"
      ]
    },
    {
      "cell_type": "code",
      "execution_count": 5,
      "id": "5cdacbd6",
      "metadata": {
        "id": "5cdacbd6",
        "outputId": "14a7d665-0f82-49ee-9ac1-55e59facc800",
        "colab": {
          "base_uri": "https://localhost:8080/"
        }
      },
      "outputs": [
        {
          "output_type": "execute_result",
          "data": {
            "text/plain": [
              "int"
            ]
          },
          "metadata": {},
          "execution_count": 5
        }
      ],
      "source": [
        "type(-5)"
      ]
    },
    {
      "cell_type": "markdown",
      "id": "87276416",
      "metadata": {
        "id": "87276416"
      },
      "source": [
        "#### Número de punto flotante\n",
        "#### -2.0, -1.0, 0.0, 1.0, 2.0"
      ]
    },
    {
      "cell_type": "code",
      "execution_count": 6,
      "id": "dbd8fc7e",
      "metadata": {
        "id": "dbd8fc7e",
        "outputId": "d8af1771-1419-4f17-fe8a-b7887711a8b1",
        "colab": {
          "base_uri": "https://localhost:8080/"
        }
      },
      "outputs": [
        {
          "output_type": "execute_result",
          "data": {
            "text/plain": [
              "float"
            ]
          },
          "metadata": {},
          "execution_count": 6
        }
      ],
      "source": [
        "type(5.0)"
      ]
    },
    {
      "cell_type": "markdown",
      "id": "e2e1f2ca",
      "metadata": {
        "id": "e2e1f2ca"
      },
      "source": [
        "#### Cadenas de  texto\n",
        "#### \"Hola\", \"mundo\""
      ]
    },
    {
      "cell_type": "code",
      "execution_count": 7,
      "id": "356fff67",
      "metadata": {
        "id": "356fff67",
        "outputId": "c0d42c00-72fd-4366-d7a2-0e163a0022c1",
        "colab": {
          "base_uri": "https://localhost:8080/"
        }
      },
      "outputs": [
        {
          "output_type": "stream",
          "name": "stdout",
          "text": [
            "d\n"
          ]
        },
        {
          "output_type": "execute_result",
          "data": {
            "text/plain": [
              "str"
            ]
          },
          "metadata": {},
          "execution_count": 7
        }
      ],
      "source": [
        "mensaje = \"Hola Mundo\"\n",
        "print(mensaje[-2])\n",
        "type(mensaje)"
      ]
    },
    {
      "cell_type": "markdown",
      "id": "9e020e04",
      "metadata": {
        "id": "9e020e04"
      },
      "source": [
        "#### Booleanos\n",
        "#### True, False"
      ]
    },
    {
      "cell_type": "code",
      "execution_count": 8,
      "id": "c713ccdb",
      "metadata": {
        "id": "c713ccdb",
        "outputId": "09218fc9-90fc-4c5d-b946-38ef7412084f",
        "colab": {
          "base_uri": "https://localhost:8080/"
        }
      },
      "outputs": [
        {
          "output_type": "execute_result",
          "data": {
            "text/plain": [
              "bool"
            ]
          },
          "metadata": {},
          "execution_count": 8
        }
      ],
      "source": [
        "type(False)"
      ]
    },
    {
      "cell_type": "markdown",
      "id": "1f40b33e",
      "metadata": {
        "id": "1f40b33e"
      },
      "source": [
        "#### Complejos\n",
        "#### 2+2j"
      ]
    },
    {
      "cell_type": "code",
      "execution_count": 9,
      "id": "1183f92f",
      "metadata": {
        "id": "1183f92f",
        "outputId": "45d16ef8-26f7-4902-c07f-e2ebb7e73045",
        "colab": {
          "base_uri": "https://localhost:8080/"
        }
      },
      "outputs": [
        {
          "output_type": "execute_result",
          "data": {
            "text/plain": [
              "complex"
            ]
          },
          "metadata": {},
          "execution_count": 9
        }
      ],
      "source": [
        "type(2+2j)"
      ]
    },
    {
      "cell_type": "markdown",
      "id": "95ab5da2",
      "metadata": {
        "id": "95ab5da2"
      },
      "source": [
        "### Operadores Matemáticos"
      ]
    },
    {
      "cell_type": "code",
      "execution_count": 10,
      "id": "916d872c",
      "metadata": {
        "id": "916d872c",
        "outputId": "bfd2f22d-c9cb-427a-ee60-8a66e51b43fd",
        "colab": {
          "base_uri": "https://localhost:8080/"
        }
      },
      "outputs": [
        {
          "output_type": "execute_result",
          "data": {
            "text/plain": [
              "9"
            ]
          },
          "metadata": {},
          "execution_count": 10
        }
      ],
      "source": [
        "# 4 Suma \"+\"\n",
        "5+4"
      ]
    },
    {
      "cell_type": "code",
      "execution_count": 11,
      "id": "0199b49d",
      "metadata": {
        "id": "0199b49d",
        "outputId": "8f83e26d-74f0-449a-9d66-d543b81a92a2",
        "colab": {
          "base_uri": "https://localhost:8080/"
        }
      },
      "outputs": [
        {
          "output_type": "execute_result",
          "data": {
            "text/plain": [
              "10"
            ]
          },
          "metadata": {},
          "execution_count": 11
        }
      ],
      "source": [
        "# 4 Resta \"-\"\n",
        "15-5"
      ]
    },
    {
      "cell_type": "code",
      "execution_count": 12,
      "id": "e54150f1",
      "metadata": {
        "id": "e54150f1",
        "outputId": "69f455e1-b5bc-47a0-e551-226b1d7becc5",
        "colab": {
          "base_uri": "https://localhost:8080/"
        }
      },
      "outputs": [
        {
          "output_type": "execute_result",
          "data": {
            "text/plain": [
              "16"
            ]
          },
          "metadata": {},
          "execution_count": 12
        }
      ],
      "source": [
        "# 3 Multiplicación \"*\"\n",
        "2*8"
      ]
    },
    {
      "cell_type": "code",
      "execution_count": 13,
      "id": "7f4a1b07",
      "metadata": {
        "id": "7f4a1b07",
        "outputId": "9a938795-1336-4d37-da1e-ce4402821d0c",
        "colab": {
          "base_uri": "https://localhost:8080/"
        }
      },
      "outputs": [
        {
          "output_type": "execute_result",
          "data": {
            "text/plain": [
              "10.0"
            ]
          },
          "metadata": {},
          "execution_count": 13
        }
      ],
      "source": [
        "# 3 División \"/\"\n",
        "90 / 9"
      ]
    },
    {
      "cell_type": "code",
      "execution_count": 14,
      "id": "cc5014bf",
      "metadata": {
        "id": "cc5014bf",
        "outputId": "a4f4372b-a123-4d84-b82d-ce84f3f78933",
        "colab": {
          "base_uri": "https://localhost:8080/"
        }
      },
      "outputs": [
        {
          "output_type": "execute_result",
          "data": {
            "text/plain": [
              "10"
            ]
          },
          "metadata": {},
          "execution_count": 14
        }
      ],
      "source": [
        "# 3 División de entero \"//\"\n",
        "91//9"
      ]
    },
    {
      "cell_type": "code",
      "execution_count": 15,
      "id": "9870bd75",
      "metadata": {
        "id": "9870bd75",
        "outputId": "39d054ba-531d-49da-b973-95be3f62795b",
        "colab": {
          "base_uri": "https://localhost:8080/"
        }
      },
      "outputs": [
        {
          "output_type": "execute_result",
          "data": {
            "text/plain": [
              "0"
            ]
          },
          "metadata": {},
          "execution_count": 15
        }
      ],
      "source": [
        "# 2 Módulo \"%\"\n",
        "12 % 6"
      ]
    },
    {
      "cell_type": "code",
      "execution_count": 16,
      "id": "6cd8191b",
      "metadata": {
        "id": "6cd8191b",
        "outputId": "ce3c7257-8d60-4f57-ec58-d09427cd58c7",
        "colab": {
          "base_uri": "https://localhost:8080/"
        }
      },
      "outputs": [
        {
          "output_type": "execute_result",
          "data": {
            "text/plain": [
              "125"
            ]
          },
          "metadata": {},
          "execution_count": 16
        }
      ],
      "source": [
        "# 2 Exponente \"**\"\n",
        "5 ** 3"
      ]
    },
    {
      "cell_type": "markdown",
      "id": "c7480295",
      "metadata": {
        "id": "c7480295"
      },
      "source": [
        "### Variables"
      ]
    },
    {
      "cell_type": "code",
      "execution_count": 22,
      "id": "cc5af935",
      "metadata": {
        "id": "cc5af935",
        "outputId": "92512a59-df48-4ae7-f761-e0321d13a8c5",
        "colab": {
          "base_uri": "https://localhost:8080/"
        }
      },
      "outputs": [
        {
          "output_type": "stream",
          "name": "stdout",
          "text": [
            "6\n"
          ]
        }
      ],
      "source": [
        "# Asignación con \"=\"\n",
        "numero = 1\n",
        "apellido_materno = \"Nuñez\"\n",
        "\n",
        "# Asignación incremental, dec [\"+=\", \"-=\"]\n",
        "numero_inicial = 1\n",
        "\n",
        "numero_inicial += 5\n",
        "\n",
        "\n",
        "print(numero_inicial)"
      ]
    },
    {
      "cell_type": "markdown",
      "id": "bd97c963",
      "metadata": {
        "id": "bd97c963"
      },
      "source": [
        "### Funciones internas"
      ]
    },
    {
      "cell_type": "markdown",
      "id": "7648bcc6",
      "metadata": {
        "id": "7648bcc6"
      },
      "source": [
        "https://docs.python.org/3/library/functions.html"
      ]
    },
    {
      "cell_type": "code",
      "execution_count": 18,
      "id": "8b263ac4",
      "metadata": {
        "id": "8b263ac4",
        "outputId": "82152922-de30-456b-827b-a571d2f71642",
        "colab": {
          "base_uri": "https://localhost:8080/"
        }
      },
      "outputs": [
        {
          "output_type": "stream",
          "name": "stdout",
          "text": [
            "soy programador\n"
          ]
        },
        {
          "output_type": "execute_result",
          "data": {
            "text/plain": [
              "15"
            ]
          },
          "metadata": {},
          "execution_count": 18
        }
      ],
      "source": [
        "mensaje = \"soy programador\"\n",
        "print(mensaje)\n",
        "len(mensaje)"
      ]
    },
    {
      "cell_type": "code",
      "execution_count": 19,
      "id": "9d3be308",
      "metadata": {
        "id": "9d3be308",
        "outputId": "c61060f5-5990-44bc-82d1-ad20661d1d11",
        "colab": {
          "base_uri": "https://localhost:8080/"
        }
      },
      "outputs": [
        {
          "output_type": "stream",
          "name": "stdout",
          "text": [
            "Hola  me llamo Luis y soy programador\n",
            "Hola me llamo Luis y soy programador\n",
            "Hola me llamo Luis y soy programador\n",
            "Hola me llamo Luis y soy programador\n"
          ]
        }
      ],
      "source": [
        "print(f'Hola  me llamo Luis y {mensaje}')\n",
        "print('Hola me llamo Luis y {}'.format(mensaje))\n",
        "print('Hola me llamo Luis y', mensaje)\n",
        "print('Hola me llamo Luis y', mensaje )"
      ]
    },
    {
      "cell_type": "code",
      "execution_count": 20,
      "id": "ed26e3d9",
      "metadata": {
        "id": "ed26e3d9",
        "outputId": "cf2d7b9f-ec92-4fdc-c7a3-db5cb828a79a",
        "colab": {
          "base_uri": "https://localhost:8080/"
        }
      },
      "outputs": [
        {
          "output_type": "stream",
          "name": "stdout",
          "text": [
            "Como se llama?DAvid\n",
            "Hola DAvid\n"
          ]
        }
      ],
      "source": [
        "# Función input\n",
        "nombre = input(\"Como se llama?\")\n",
        "print(f'Hola {nombre}')"
      ]
    },
    {
      "cell_type": "code",
      "execution_count": 23,
      "id": "11da3f95",
      "metadata": {
        "id": "11da3f95"
      },
      "outputs": [],
      "source": [
        "# Convertidores\n",
        "nombre = \"David Robert\"\n",
        "edad = 32\n",
        "altura = \"1.75\"\n",
        "\n",
        "\n",
        "cadena1 = str(29)\n",
        "int1 = int('11')\n",
        "float1 = float('2.0')"
      ]
    },
    {
      "cell_type": "code",
      "source": [
        "edad + float(altura)"
      ],
      "metadata": {
        "colab": {
          "base_uri": "https://localhost:8080/"
        },
        "id": "LjdJdmqBBcK5",
        "outputId": "4d9c3e34-8862-4b77-930b-00f4e2256bf4"
      },
      "id": "LjdJdmqBBcK5",
      "execution_count": 24,
      "outputs": [
        {
          "output_type": "execute_result",
          "data": {
            "text/plain": [
              "33.75"
            ]
          },
          "metadata": {},
          "execution_count": 24
        }
      ]
    },
    {
      "cell_type": "markdown",
      "id": "74431e25",
      "metadata": {
        "id": "74431e25"
      },
      "source": [
        "### Estructuras de control"
      ]
    },
    {
      "cell_type": "raw",
      "id": "8793b537",
      "metadata": {
        "id": "8793b537"
      },
      "source": [
        "Operadores de comparación:\n",
        "\n",
        " - \"==\" Igual a\n",
        "\n",
        " - \"!=\" Diferente de\n",
        "\n",
        " - \"<\" Menor que\n",
        "\n",
        " - \">\" Mayor que\n",
        "\n",
        " -  \"<=\" Menor o igual que\n",
        "\n",
        " -  \">=\" Mayor o igual que\n",
        "\n",
        "Operadores booleanos\n",
        "\n",
        " - \"and\"\n",
        " - \"or\"\n",
        " - \"not\""
      ]
    },
    {
      "cell_type": "markdown",
      "id": "47c9a838",
      "metadata": {
        "id": "47c9a838"
      },
      "source": [
        "### Sentencia if, elif, else"
      ]
    },
    {
      "cell_type": "code",
      "execution_count": 26,
      "id": "5f8088ec",
      "metadata": {
        "id": "5f8088ec",
        "outputId": "67fca349-6623-46db-e5ad-784217c84a8c",
        "colab": {
          "base_uri": "https://localhost:8080/"
        }
      },
      "outputs": [
        {
          "output_type": "stream",
          "name": "stdout",
          "text": [
            "Es un lenguaje interpretado\n"
          ]
        }
      ],
      "source": [
        "# Condicionales\n",
        "lenguaje = \"Python\"\n",
        "\n",
        "if lenguaje == \"Python\":\n",
        "    print(\"Es un lenguaje interpretado\")\n",
        "elif lenguaje == \"Go\" or lenguaje == \"C\":\n",
        "    print(\"Es un lenguaje compilado\")\n",
        "else:\n",
        "    print(\"¿Es Java?\")\n",
        "\n"
      ]
    },
    {
      "cell_type": "code",
      "execution_count": 27,
      "id": "7d755cab",
      "metadata": {
        "id": "7d755cab",
        "outputId": "b1aad56a-8311-4a46-d599-eec9ce32ad89",
        "colab": {
          "base_uri": "https://localhost:8080/"
        }
      },
      "outputs": [
        {
          "output_type": "stream",
          "name": "stdout",
          "text": [
            "Python Es un lenguaje interpretado\n"
          ]
        }
      ],
      "source": [
        "#Operador Ternario\n",
        "print(lenguaje, \"Es un lenguaje interpretado\" if lenguaje == \"Python\" else \"Es un lenguaje compilado\")"
      ]
    },
    {
      "cell_type": "code",
      "source": [
        "if lenguaje == \"Python\":\n",
        "  print(lenguaje + \" Es un lenguaje interpretado\")\n",
        "else:\n",
        "  print(lenguaje + \" Es un lenguaje compilado\")\n"
      ],
      "metadata": {
        "colab": {
          "base_uri": "https://localhost:8080/"
        },
        "id": "wuybZuhQFJER",
        "outputId": "89626f64-f878-4c93-aba1-a3ed3b0f112f"
      },
      "id": "wuybZuhQFJER",
      "execution_count": 28,
      "outputs": [
        {
          "output_type": "stream",
          "name": "stdout",
          "text": [
            "Python Es un lenguaje interpretado\n"
          ]
        }
      ]
    },
    {
      "cell_type": "markdown",
      "id": "570bf00e",
      "metadata": {
        "id": "570bf00e"
      },
      "source": [
        "### Bucles"
      ]
    },
    {
      "cell_type": "markdown",
      "id": "29b1b7cc",
      "metadata": {
        "id": "29b1b7cc"
      },
      "source": [
        "#### Bucles for"
      ]
    },
    {
      "cell_type": "code",
      "execution_count": 29,
      "id": "3e628a8e",
      "metadata": {
        "id": "3e628a8e",
        "outputId": "0dc83d23-5246-4d8e-cb72-fa5a6c190c60",
        "colab": {
          "base_uri": "https://localhost:8080/"
        }
      },
      "outputs": [
        {
          "output_type": "stream",
          "name": "stdout",
          "text": [
            "H\n",
            "o\n",
            "l\n",
            "a\n",
            " \n",
            "P\n",
            "r\n",
            "o\n",
            "m\n",
            "o\n",
            "c\n",
            "i\n",
            "o\n",
            "n\n",
            " \n",
            "3\n",
            " \n",
            "d\n",
            "e\n",
            " \n",
            "I\n",
            "A\n"
          ]
        }
      ],
      "source": [
        "\"\"\"\n",
        "Funciona para iterar cadenas de texto, listas\n",
        "tuplas, diccionarios y sets\n",
        "\"\"\"\n",
        "mensaje = \"Hola Promocion 3 de IA\"\n",
        "for ch in mensaje:\n",
        "    print(ch)"
      ]
    },
    {
      "cell_type": "code",
      "execution_count": 30,
      "id": "92e12bfe",
      "metadata": {
        "id": "92e12bfe",
        "outputId": "d0241dea-10e8-4168-8a1e-1adfd5b0ae5f",
        "colab": {
          "base_uri": "https://localhost:8080/"
        }
      },
      "outputs": [
        {
          "output_type": "stream",
          "name": "stdout",
          "text": [
            "0\n",
            "1\n",
            "2\n"
          ]
        }
      ],
      "source": [
        "\"\"\"\n",
        "En combinación con la función range()\n",
        "para iterar con un número como límite\n",
        "\"\"\"\n",
        "for i in range(3):\n",
        "    print(i)"
      ]
    },
    {
      "cell_type": "code",
      "execution_count": 31,
      "id": "5c5bdf71",
      "metadata": {
        "id": "5c5bdf71",
        "outputId": "c95ec73c-c7a0-43fc-8a14-c85552e0348a",
        "colab": {
          "base_uri": "https://localhost:8080/"
        }
      },
      "outputs": [
        {
          "output_type": "stream",
          "name": "stdout",
          "text": [
            "5\n",
            "8\n",
            "11\n",
            "14\n",
            "17\n",
            "20\n",
            "23\n"
          ]
        }
      ],
      "source": [
        "\"\"\"\n",
        "Cuando se usa la función range()\n",
        "se puede indicar el punto de inicio, final y el paso\n",
        "\"\"\"\n",
        "for i in range(5, 25, 3):\n",
        "    print(i)"
      ]
    },
    {
      "cell_type": "code",
      "execution_count": 32,
      "id": "cc66988e",
      "metadata": {
        "id": "cc66988e",
        "colab": {
          "base_uri": "https://localhost:8080/"
        },
        "outputId": "701b9937-be91-4f44-eb2c-d1e224dbc3de"
      },
      "outputs": [
        {
          "output_type": "stream",
          "name": "stdout",
          "text": [
            "El conteo continua\n",
            "El conteo continua\n",
            "El conteo continua\n",
            "El conteo continua\n",
            "El conteo terminó\n"
          ]
        }
      ],
      "source": [
        "\"\"\"\n",
        "For else, nos permite agregar una condición sí no,\n",
        "cuando se puede romper la iteración con break\n",
        "\"\"\"\n",
        "for i in [1, 2, 3, 4, 5, 6]:\n",
        "    if i == 5:\n",
        "        print(\"El conteo terminó\")\n",
        "        break\n",
        "\n",
        "    else:\n",
        "        print(\"El conteo continua\")"
      ]
    },
    {
      "cell_type": "markdown",
      "id": "13792c13",
      "metadata": {
        "id": "13792c13"
      },
      "source": [
        "#### Bucle while\n"
      ]
    },
    {
      "cell_type": "code",
      "execution_count": 33,
      "id": "4700f047",
      "metadata": {
        "id": "4700f047",
        "outputId": "9d664c12-1174-4d30-9073-829be467acd0",
        "colab": {
          "base_uri": "https://localhost:8080/"
        }
      },
      "outputs": [
        {
          "output_type": "stream",
          "name": "stdout",
          "text": [
            "¿Cuál es tu nombre? Jorge\n",
            "Nombre equivocado\n",
            "¿Cuál es tu nombre? LUIS\n",
            "Nombre correcto\n"
          ]
        }
      ],
      "source": [
        "respuesta = False\n",
        "\n",
        "while respuesta == False:\n",
        "    nombre = input(\"¿Cuál es tu nombre? \")\n",
        "    if nombre.lower() == \"luis\":\n",
        "        print(\"Nombre correcto\")\n",
        "        respuesta = True\n",
        "    else:\n",
        "        print(\"Nombre equivocado\")\n",
        "\n"
      ]
    },
    {
      "cell_type": "markdown",
      "id": "f17cc703",
      "metadata": {
        "id": "f17cc703"
      },
      "source": [
        "### Funciones"
      ]
    },
    {
      "cell_type": "code",
      "execution_count": 34,
      "id": "f7b97132",
      "metadata": {
        "id": "f7b97132",
        "outputId": "8481eeab-1d95-4fa8-c018-9061996ccb77",
        "colab": {
          "base_uri": "https://localhost:8080/"
        }
      },
      "outputs": [
        {
          "output_type": "stream",
          "name": "stdout",
          "text": [
            "Hola,  Luis\n"
          ]
        }
      ],
      "source": [
        "\"\"\"\n",
        "Bloque de código de propósito específico\n",
        "que permite mayor modularidad\n",
        "\"\"\"\n",
        "\n",
        "def saludo(nombre):\n",
        "    print(\"Hola, \", nombre)\n",
        "\n",
        "saludo(\"Luis\")"
      ]
    },
    {
      "cell_type": "code",
      "execution_count": 35,
      "id": "1a327ba1",
      "metadata": {
        "id": "1a327ba1",
        "colab": {
          "base_uri": "https://localhost:8080/"
        },
        "outputId": "5fbc4913-f212-4ae7-995c-2167e8d7b1aa"
      },
      "outputs": [
        {
          "output_type": "stream",
          "name": "stdout",
          "text": [
            "Hola,  LUIS\n"
          ]
        }
      ],
      "source": [
        "saludo(nombre)"
      ]
    },
    {
      "cell_type": "markdown",
      "id": "e6f2f2f8",
      "metadata": {
        "id": "e6f2f2f8"
      },
      "source": [
        "#### Alcance (Scope) de una Variable"
      ]
    },
    {
      "cell_type": "code",
      "execution_count": 36,
      "id": "741b6079",
      "metadata": {
        "id": "741b6079",
        "outputId": "31d0e141-d1ea-4555-d882-9435c9746c09",
        "colab": {
          "base_uri": "https://localhost:8080/"
        }
      },
      "outputs": [
        {
          "output_type": "stream",
          "name": "stdout",
          "text": [
            "Hola soy la variable global\n",
            "Hola soy la variable local\n"
          ]
        }
      ],
      "source": [
        "variable_global = \"Hola soy la variable global\"\n",
        "\n",
        "def mostrar_variable():\n",
        "    print(variable_global)\n",
        "    variable_local = \"Hola soy la variable local\"\n",
        "    print(variable_local)\n",
        "\n",
        "mostrar_variable()"
      ]
    },
    {
      "cell_type": "code",
      "source": [
        "print(variable_global)"
      ],
      "metadata": {
        "colab": {
          "base_uri": "https://localhost:8080/"
        },
        "id": "eiQghyD2z_BI",
        "outputId": "5fed8345-09f5-49fe-d961-e3c93f3e42c8"
      },
      "id": "eiQghyD2z_BI",
      "execution_count": 37,
      "outputs": [
        {
          "output_type": "stream",
          "name": "stdout",
          "text": [
            "Hola soy la variable global\n"
          ]
        }
      ]
    },
    {
      "cell_type": "code",
      "source": [
        "print(variable_local)"
      ],
      "metadata": {
        "colab": {
          "base_uri": "https://localhost:8080/",
          "height": 147
        },
        "id": "xMd2acaN0E66",
        "outputId": "09acf29a-a0fc-4ae7-fddd-c467eda9a4b6"
      },
      "id": "xMd2acaN0E66",
      "execution_count": 38,
      "outputs": [
        {
          "output_type": "error",
          "ename": "NameError",
          "evalue": "name 'variable_local' is not defined",
          "traceback": [
            "\u001b[0;31m---------------------------------------------------------------------------\u001b[0m",
            "\u001b[0;31mNameError\u001b[0m                                 Traceback (most recent call last)",
            "\u001b[0;32m<ipython-input-38-104fe37b7e45>\u001b[0m in \u001b[0;36m<cell line: 1>\u001b[0;34m()\u001b[0m\n\u001b[0;32m----> 1\u001b[0;31m \u001b[0mprint\u001b[0m\u001b[0;34m(\u001b[0m\u001b[0mvariable_local\u001b[0m\u001b[0;34m)\u001b[0m\u001b[0;34m\u001b[0m\u001b[0;34m\u001b[0m\u001b[0m\n\u001b[0m",
            "\u001b[0;31mNameError\u001b[0m: name 'variable_local' is not defined"
          ]
        }
      ]
    },
    {
      "cell_type": "code",
      "execution_count": 39,
      "id": "22724a44",
      "metadata": {
        "id": "22724a44",
        "outputId": "b78e9683-0dc0-4848-b3df-93281dcdcaac",
        "colab": {
          "base_uri": "https://localhost:8080/"
        }
      },
      "outputs": [
        {
          "output_type": "stream",
          "name": "stdout",
          "text": [
            "El resultado de la suma fue 5\n"
          ]
        }
      ],
      "source": [
        "def suma(numero_1, numero_2):\n",
        "    return numero_1 + numero_2\n",
        "\n",
        "resultado = suma(2,3)\n",
        "print(\"El resultado de la suma fue\",resultado)"
      ]
    },
    {
      "cell_type": "code",
      "execution_count": 41,
      "id": "9facb8ce",
      "metadata": {
        "id": "9facb8ce",
        "outputId": "ca2644a3-dba2-4f93-cc7b-0dd1425db4fc",
        "colab": {
          "base_uri": "https://localhost:8080/"
        }
      },
      "outputs": [
        {
          "output_type": "execute_result",
          "data": {
            "text/plain": [
              "11"
            ]
          },
          "metadata": {},
          "execution_count": 41
        }
      ],
      "source": [
        "def sumaEntera(numero_1: int, numero_2: int) -> int:\n",
        "    if not isinstance(numero_1, int) or not isinstance(numero_2, int):\n",
        "        print(\"Solo puede ingresar números enteros\")\n",
        "        return 0\n",
        "    else:\n",
        "        resultado = numero_1 + numero_2\n",
        "        return resultado\n",
        "\n",
        "sumaEntera(numero_1=6 ,numero_2=5)"
      ]
    }
  ],
  "metadata": {
    "kernelspec": {
      "display_name": "Python 3 (ipykernel)",
      "language": "python",
      "name": "python3"
    },
    "language_info": {
      "codemirror_mode": {
        "name": "ipython",
        "version": 3
      },
      "file_extension": ".py",
      "mimetype": "text/x-python",
      "name": "python",
      "nbconvert_exporter": "python",
      "pygments_lexer": "ipython3",
      "version": "3.10.12"
    },
    "colab": {
      "provenance": [],
      "collapsed_sections": [
        "f17cc703"
      ]
    }
  },
  "nbformat": 4,
  "nbformat_minor": 5
}